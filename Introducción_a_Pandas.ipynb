{
  "nbformat": 4,
  "nbformat_minor": 0,
  "metadata": {
    "kernelspec": {
      "display_name": "Python 3",
      "language": "python",
      "name": "python3"
    },
    "language_info": {
      "codemirror_mode": {
        "name": "ipython",
        "version": 3
      },
      "file_extension": ".py",
      "mimetype": "text/x-python",
      "name": "python",
      "nbconvert_exporter": "python",
      "pygments_lexer": "ipython3",
      "version": "3.7.4"
    },
    "colab": {
      "provenance": [],
      "include_colab_link": true
    }
  },
  "cells": [
    {
      "cell_type": "markdown",
      "metadata": {
        "id": "view-in-github",
        "colab_type": "text"
      },
      "source": [
        "<a href=\"https://colab.research.google.com/github/CatoXP/Pandas/blob/main/Introducci%C3%B3n_a_Pandas.ipynb\" target=\"_parent\"><img src=\"https://colab.research.google.com/assets/colab-badge.svg\" alt=\"Open In Colab\"/></a>"
      ]
    },
    {
      "cell_type": "markdown",
      "metadata": {
        "id": "E4J07DXmj78h"
      },
      "source": [
        "# Introducción a Pandas"
      ]
    },
    {
      "cell_type": "markdown",
      "metadata": {
        "id": "ysU7cO5Xj78i"
      },
      "source": [
        "[Pandas](https://pandas.pydata.org/about/index.html) es una librería que proporciona estructuras de datos y herramientas de análisis de datos de alto rendimiento y fáciles de usar.\n",
        "* La estructura de datos principal es el DataFrame, que puede considerarse como una tabla 2D en memoria (como una hoja de cálculo, con nombres de columna y etiquetas de fila).\n",
        "* Muchas funciones disponibles en Excel están disponibles mediante programación, como crear tablas dinámicas, calcular columnas basadas en otras columnas, trazar gráficos, etc.\n",
        "* Proporciona un alto rendimiento para manipular (unir, dividir, modificar…) grandes conjuntos de datos"
      ]
    },
    {
      "cell_type": "markdown",
      "metadata": {
        "id": "y72AUkKbj78j"
      },
      "source": [
        "## Import"
      ]
    },
    {
      "cell_type": "code",
      "metadata": {
        "id": "iPWhF-63j78k"
      },
      "source": [
        "import pandas as pd"
      ],
      "execution_count": null,
      "outputs": []
    },
    {
      "cell_type": "markdown",
      "metadata": {
        "id": "77subc--j78r"
      },
      "source": [
        "## Estructuras de datos en Pandas"
      ]
    },
    {
      "cell_type": "markdown",
      "metadata": {
        "id": "7PyIF3wRj78r"
      },
      "source": [
        "La librería Pandas, de manera genérica, contiene las siguientes estructuras de datos:\n",
        "* **Series**: Array de una dimensión\n",
        "* **DataFrame**: Se corresponde con una tabla de 2 dimensiones\n",
        "* **Panel**: Similar a un diccionario de DataFrames"
      ]
    },
    {
      "cell_type": "markdown",
      "metadata": {
        "id": "LEkNVaHzj78s"
      },
      "source": [
        "## Creación del objeto Series"
      ]
    },
    {
      "cell_type": "code",
      "metadata": {
        "id": "VjIaXVjQj78t"
      },
      "source": [
        "# Creacion de un objeto Series\n",
        "s = pd.Series([2, 4, 6, 8, 10])\n",
        "print(s)"
      ],
      "execution_count": null,
      "outputs": []
    },
    {
      "cell_type": "code",
      "metadata": {
        "id": "UTjaS6D1j78x"
      },
      "source": [
        "# Creación de un objeto Series inicializándolo con un diccionario de Python\n",
        "altura = {\"Santiago\": 187, \"Pedro\": 178, \"Julia\": 170, \"Ana\": 165}\n",
        "s = pd.Series(altura)\n",
        "print(s)"
      ],
      "execution_count": null,
      "outputs": []
    },
    {
      "cell_type": "code",
      "metadata": {
        "id": "TCLJMZ0lj780"
      },
      "source": [
        "# Creación de un objeto Series inicializándolo con algunos\n",
        "# de los elementos de un diccionario de Python\n",
        "altura = {\"Santiago\": 187, \"Pedro\": 178, \"Julia\": 170, \"Ana\": 165}\n",
        "s = pd.Series(altura, index = [\"Pedro\", \"Julia\"])\n",
        "print(s)"
      ],
      "execution_count": null,
      "outputs": []
    },
    {
      "cell_type": "code",
      "metadata": {
        "id": "T-5731rPj783"
      },
      "source": [
        "# Creación de un objeto Series inicializandolo con un escalar\n",
        "s = pd.Series([32,33,34], [\"test1\", \"test2\", \"test3\"])\n",
        "print(s)"
      ],
      "execution_count": null,
      "outputs": []
    },
    {
      "cell_type": "markdown",
      "metadata": {
        "id": "lfbrZpKvj785"
      },
      "source": [
        "## Acceso a los elementos de un objeto Series"
      ]
    },
    {
      "cell_type": "markdown",
      "metadata": {
        "id": "_AIlWehMj786"
      },
      "source": [
        "Cada elemento en un objeto Series tiene un identificador único que se denomina **_index label_**."
      ]
    },
    {
      "cell_type": "code",
      "metadata": {
        "id": "D9IkjKSVj786"
      },
      "source": [
        "# Creación de un objeto Series\n",
        "s = pd.Series([2, 4, 6, 8], index=[\"num1\", \"num2\", \"num3\", \"num4\"])\n",
        "print(s)"
      ],
      "execution_count": null,
      "outputs": []
    },
    {
      "cell_type": "code",
      "metadata": {
        "id": "9bMiILRij788"
      },
      "source": [
        "# Accediendo al tercer elemento del objeto\n",
        "s[\"num3\"]"
      ],
      "execution_count": null,
      "outputs": []
    },
    {
      "cell_type": "code",
      "metadata": {
        "id": "igFM2_Obj78-"
      },
      "source": [
        "# Tambien se puede acceder al elemento por posición\n",
        "s[2]"
      ],
      "execution_count": null,
      "outputs": []
    },
    {
      "cell_type": "code",
      "metadata": {
        "id": "-nWiQ_jDj79A"
      },
      "source": [
        "# loc es la forma estándar de acceder a un elemento de un objeto Series por atributo\n",
        "s.loc[\"num3\"]"
      ],
      "execution_count": null,
      "outputs": []
    },
    {
      "cell_type": "code",
      "metadata": {
        "id": "dWnj4Aqhj79C"
      },
      "source": [
        "# iloc es la forma estándar de acceder a un elemento de un objeto Series por posición\n",
        "s.iloc[2]"
      ],
      "execution_count": null,
      "outputs": []
    },
    {
      "cell_type": "code",
      "metadata": {
        "id": "Eo98rlg6j79D"
      },
      "source": [
        "# Accediendo al segundo y tercer elemento por posición\n",
        "s.iloc[0:4]"
      ],
      "execution_count": null,
      "outputs": []
    },
    {
      "cell_type": "markdown",
      "metadata": {
        "id": "RbaEgEpdj79F"
      },
      "source": [
        "## Operaciones aritméticas con Series"
      ]
    },
    {
      "cell_type": "code",
      "metadata": {
        "id": "iaFMGWAdj79F"
      },
      "source": [
        "# Creacion de un objeto Series\n",
        "s = pd.Series([2, 4, 6, 8, 10],index=[1,2,3,4,5])\n",
        "print(s)"
      ],
      "execution_count": null,
      "outputs": []
    },
    {
      "cell_type": "code",
      "metadata": {
        "id": "-dzE2N04j79H"
      },
      "source": [
        "# Los objeto Series son similares y compatibles con los Arrays de Numpy\n",
        "import numpy as np\n",
        "# Ufunc de Numpy para sumar los elementos de un Array\n",
        "np.sum(s)"
      ],
      "execution_count": null,
      "outputs": []
    },
    {
      "cell_type": "code",
      "source": [
        "np.std (s)"
      ],
      "metadata": {
        "id": "BjuZpwxrL3so"
      },
      "execution_count": null,
      "outputs": []
    },
    {
      "cell_type": "code",
      "source": [
        "np.var(s)"
      ],
      "metadata": {
        "colab": {
          "base_uri": "https://localhost:8080/"
        },
        "id": "mDK9leRMMEL9",
        "outputId": "74ada929-a307-47c1-b299-13d94a02d2d0"
      },
      "execution_count": null,
      "outputs": [
        {
          "output_type": "execute_result",
          "data": {
            "text/plain": [
              "8.0"
            ]
          },
          "metadata": {},
          "execution_count": 20
        }
      ]
    },
    {
      "cell_type": "code",
      "metadata": {
        "id": "u3E5Qp4Xj79I"
      },
      "source": [
        "# El resto de operaciones aritméticas de Numpy sobre Arrays también son posibles\n",
        "s * 2"
      ],
      "execution_count": null,
      "outputs": []
    },
    {
      "cell_type": "markdown",
      "metadata": {
        "id": "zuMl7bbYj79K"
      },
      "source": [
        "## Representación gráfica de un objeto Series"
      ]
    },
    {
      "cell_type": "code",
      "metadata": {
        "id": "5plLOmy3j79K"
      },
      "source": [
        "# Creación de un objeto Series denominado Temperaturas\n",
        "temperaturas = [4.4, 5.1, 6.1, 6.2, 6.1, 6.1, 5.7, 5.2, 4.7, 4.1, 3.9]\n",
        "s = pd.Series(temperaturas, name=\"Temperaturas\")\n",
        "s\n"
      ],
      "execution_count": null,
      "outputs": []
    },
    {
      "cell_type": "code",
      "metadata": {
        "id": "7Va3iJF1j79M"
      },
      "source": [
        "# Representación gráfica del objeto Series\n",
        "%matplotlib inline\n",
        "import matplotlib.pyplot as plt\n",
        "\n",
        "s.plot()\n",
        "plt.show()"
      ],
      "execution_count": null,
      "outputs": []
    },
    {
      "cell_type": "markdown",
      "metadata": {
        "id": "H4VG-TDWj79O"
      },
      "source": [
        "## Creación de un objeto DataFrame"
      ]
    },
    {
      "cell_type": "code",
      "metadata": {
        "id": "tv8hK8FGj79O"
      },
      "source": [
        "# Creación de un DataFrame inicializándolo con un diccionario de objetios Series\n",
        "personas = {\n",
        "    \"peso\": pd.Series([84, 90, 56, 64], [\"Santiago\",\"Pedro\", \"Ana\", \"Julia\"]),\n",
        "    \"altura\": pd.Series({\"Santiago\": 187, \"Pedro\": 178, \"Julia\": 170, \"Ana\": 165}),\n",
        "    \"hijos\": pd.Series([2, 3], [\"Pedro\", \"Julia\"])\n",
        "}\n",
        "\n",
        "df = pd.DataFrame(personas)\n",
        "df"
      ],
      "execution_count": null,
      "outputs": []
    },
    {
      "cell_type": "markdown",
      "metadata": {
        "id": "sHFY9G-nj79Q"
      },
      "source": [
        "Puede forzarse al DataFrame a que presente unas columnas determinadas y en un orden determinado"
      ]
    },
    {
      "cell_type": "code",
      "metadata": {
        "id": "-pZW2c7sj79Q"
      },
      "source": [
        "# Creación de un DataFrame inicializándolo con algunos elementos de un diccionario\n",
        "# de objetos Series\n",
        "personas = {\n",
        "    \"peso\": pd.Series([84, 90, 56, 64], [\"Santiago\",\"Pedro\", \"Ana\", \"Julia\"]),\n",
        "    \"altura\": pd.Series({\"Santiago\": 187, \"Pedro\": 178, \"Julia\": 170, \"Ana\": 165}),\n",
        "    \"hijos\": pd.Series([2, 3], [\"Pedro\", \"Julia\"])\n",
        "}\n",
        "\n",
        "df = pd.DataFrame(\n",
        "        personas,\n",
        "        columns = [\"altura\", \"peso\"],\n",
        "        index = [\"Ana\", \"Julia\", \"Santiago\"])\n",
        "df"
      ],
      "execution_count": null,
      "outputs": []
    },
    {
      "cell_type": "code",
      "metadata": {
        "id": "2UZc9Slkj79S"
      },
      "source": [
        "# Creación de un DataFrame inicializándolo con una lista de listas de Python\n",
        "# Importante: Deben especificarse las columnas e indices por separado\n",
        "valores = [\n",
        "    [185, 4, 76],\n",
        "    [170, 0, 65],\n",
        "    [190, 1, 89]\n",
        "]\n",
        "\n",
        "df = pd.DataFrame(\n",
        "        valores,\n",
        "        columns = [\"altura\", \"hijos\", \"peso\"],\n",
        "        index = [\"Pedro\", \"Ana\", \"Juan\"])\n",
        "df"
      ],
      "execution_count": null,
      "outputs": []
    },
    {
      "cell_type": "code",
      "metadata": {
        "id": "izPn42cSj79T"
      },
      "source": [
        "# Creación de un DataFrame inicializándolo con un diccionario de Python\n",
        "personas = {\n",
        "    \"altura\": {\"Santiago\": 187, \"Pedro\": 178, \"Julia\": 170, \"Ana\": 165},\n",
        "    \"peso\": {\"Santiago\": 87, \"Pedro\": 78, \"Julia\": 70, \"Ana\": 65}}\n",
        "\n",
        "df = pd.DataFrame(personas)\n",
        "df"
      ],
      "execution_count": null,
      "outputs": []
    },
    {
      "cell_type": "markdown",
      "metadata": {
        "id": "vlTF6yyGj79U"
      },
      "source": [
        "## Acceso a los elementos de un DataFrame"
      ]
    },
    {
      "cell_type": "code",
      "metadata": {
        "id": "1Zoe_92dj79V"
      },
      "source": [
        "# Creación de un DataFrame inicializándolo con un diccionario de objetios Series\n",
        "personas = {\n",
        "    \"peso\": pd.Series([84, 90, 56, 64], [\"Santiago\",\"Pedro\", \"Ana\", \"Julia\"]),\n",
        "    \"altura\": pd.Series({\"Santiago\": 187, \"Pedro\": 178, \"Julia\": 170, \"Ana\": 165}),\n",
        "    \"hijos\": pd.Series([2, 3], [\"Pedro\", \"Julia\"])\n",
        "}\n",
        "\n",
        "df = pd.DataFrame(personas)\n",
        "df"
      ],
      "execution_count": null,
      "outputs": []
    },
    {
      "cell_type": "code",
      "source": [
        "df.iloc[1,2]"
      ],
      "metadata": {
        "id": "EJ5RPul-K7ne"
      },
      "execution_count": null,
      "outputs": []
    },
    {
      "cell_type": "code",
      "source": [
        "df.loc['Julia','hijos']"
      ],
      "metadata": {
        "id": "Rt0n-oP7LL41"
      },
      "execution_count": null,
      "outputs": []
    },
    {
      "cell_type": "markdown",
      "metadata": {
        "id": "L_dCVE0jj79W"
      },
      "source": [
        "### Acceso a los elementos de las columnas del DataFrame"
      ]
    },
    {
      "cell_type": "code",
      "metadata": {
        "id": "wrpUpzvgj79X"
      },
      "source": [
        "df[\"peso\"]"
      ],
      "execution_count": null,
      "outputs": []
    },
    {
      "cell_type": "code",
      "metadata": {
        "scrolled": true,
        "id": "7QkoYRCaj79Y"
      },
      "source": [
        "df[[\"peso\", \"altura\"]]"
      ],
      "execution_count": null,
      "outputs": []
    },
    {
      "cell_type": "code",
      "metadata": {
        "id": "PNVsifrhj79Z"
      },
      "source": [
        "# Pueden combinarse los metodos anteriores con expresiones booleanas\n",
        "df[\"peso\"] > 80"
      ],
      "execution_count": null,
      "outputs": []
    },
    {
      "cell_type": "code",
      "metadata": {
        "id": "XlRUMbhsj79a"
      },
      "source": [
        "# Pueden combinarse los metodos anteriores con expresiones booleanas\n",
        "df[df[\"peso\"] > 80]"
      ],
      "execution_count": null,
      "outputs": []
    },
    {
      "cell_type": "markdown",
      "metadata": {
        "id": "NdjVpRH4j79c"
      },
      "source": [
        "### Acceso a los elementos de las filas del DataFrame"
      ]
    },
    {
      "cell_type": "code",
      "metadata": {
        "id": "BU98v3KRj79c"
      },
      "source": [
        "# Mostrar el DataFrame\n",
        "df"
      ],
      "execution_count": null,
      "outputs": []
    },
    {
      "cell_type": "code",
      "metadata": {
        "id": "qGhQfXOKj79d"
      },
      "source": [
        "df.loc[\"Pedro\"]"
      ],
      "execution_count": null,
      "outputs": []
    },
    {
      "cell_type": "code",
      "metadata": {
        "id": "Xcjokb0rj79e"
      },
      "source": [
        "df.iloc[2]"
      ],
      "execution_count": null,
      "outputs": []
    },
    {
      "cell_type": "code",
      "metadata": {
        "id": "h_KRgVcCj79g"
      },
      "source": [
        "df.iloc[1:3]"
      ],
      "execution_count": null,
      "outputs": []
    },
    {
      "cell_type": "markdown",
      "metadata": {
        "id": "BnQ07bS_j79h"
      },
      "source": [
        "### Consulta avanzada de los elementos de un DataFrame"
      ]
    },
    {
      "cell_type": "code",
      "metadata": {
        "id": "FSirVD_pj79h"
      },
      "source": [
        "# Mostrar el DataFrame\n",
        "df"
      ],
      "execution_count": null,
      "outputs": []
    },
    {
      "cell_type": "code",
      "metadata": {
        "id": "iwITTsX7j79i"
      },
      "source": [
        "df.query(\"altura >= 170 and peso > 60\")"
      ],
      "execution_count": null,
      "outputs": []
    },
    {
      "cell_type": "markdown",
      "metadata": {
        "id": "hXRQWK4Hj79j"
      },
      "source": [
        "## Copiar un DataFrame"
      ]
    },
    {
      "cell_type": "code",
      "metadata": {
        "id": "ct2spYW-j79k"
      },
      "source": [
        "# Creación de un DataFrame inicializándolo con un diccionario de objetios Series\n",
        "personas = {\n",
        "    \"peso\": pd.Series([84, 90, 56, 64], [\"Santiago\",\"Pedro\", \"Ana\", \"Julia\"]),\n",
        "    \"altura\": pd.Series({\"Santiago\": 187, \"Pedro\": 178, \"Julia\": 170, \"Ana\": 165}),\n",
        "    \"hijos\": pd.Series([2, 3], [\"Pedro\", \"Julia\"])\n",
        "}\n",
        "\n",
        "df = pd.DataFrame(personas)\n",
        "df"
      ],
      "execution_count": null,
      "outputs": []
    },
    {
      "cell_type": "code",
      "metadata": {
        "id": "PndbKnQgj79l"
      },
      "source": [
        "# Copia del DataFrame df en df_copy\n",
        "# Importante: Al modificar un elemento de df_copy no se modifica df\n",
        "df_copy = df.copy()"
      ],
      "execution_count": null,
      "outputs": []
    },
    {
      "cell_type": "markdown",
      "metadata": {
        "id": "946enblhj79m"
      },
      "source": [
        "## Modificación de un DataFrame"
      ]
    },
    {
      "cell_type": "code",
      "metadata": {
        "id": "E1Ak5cJ9j79m"
      },
      "source": [
        "import pandas as pd\n",
        "# Creación de un DataFrame inicializándolo con un diccionario de objetios Series\n",
        "personas = {\n",
        "    \"peso\": pd.Series([84, 90, 56, 64], [\"Santiago\",\"Pedro\", \"Ana\", \"Julia\"]),\n",
        "    \"altura\": pd.Series({\"Santiago\": 187, \"Pedro\": 178, \"Julia\": 170, \"Ana\": 165}),\n",
        "    \"hijos\": pd.Series([2, 3], [\"Pedro\", \"Julia\"])\n",
        "}\n",
        "\n",
        "df = pd.DataFrame(personas)\n",
        "df"
      ],
      "execution_count": null,
      "outputs": []
    },
    {
      "cell_type": "code",
      "metadata": {
        "id": "zHK0Ai2Fj79o"
      },
      "source": [
        "# Añadir una nueva columna al DataFrame\n",
        "df[\"año de nacimiento\"] = [1990, 1987, 1980, 1994]\n",
        "df"
      ],
      "execution_count": null,
      "outputs": []
    },
    {
      "cell_type": "code",
      "metadata": {
        "id": "SO5ESOJJj79p"
      },
      "source": [
        "# Añadir una nueva columna calculada al DataFrame\n",
        "df[\"años\"] = 2024 - df[\"año de nacimiento\"]\n",
        "df"
      ],
      "execution_count": null,
      "outputs": []
    },
    {
      "cell_type": "code",
      "metadata": {
        "id": "yiCJIylFj79q"
      },
      "source": [
        "# Añadir una nueva columna creando un DataFrame nuevo\n",
        "df_mod = df.assign(mascotas = [1, 3, 0, 0])\n",
        "df_mod"
      ],
      "execution_count": null,
      "outputs": []
    },
    {
      "cell_type": "code",
      "metadata": {
        "id": "97A3zn6Mj79s"
      },
      "source": [
        "df"
      ],
      "execution_count": null,
      "outputs": []
    },
    {
      "cell_type": "code",
      "metadata": {
        "id": "JmOb6TK3j79t"
      },
      "source": [
        "# Eliminar una columna existente del DataFrame\n",
        "del df[\"peso\"]\n",
        "df"
      ],
      "execution_count": null,
      "outputs": []
    },
    {
      "cell_type": "code",
      "metadata": {
        "id": "5XVm0q8jj79v"
      },
      "source": [
        "# Eliminar una columna existente devolviendo una copia del DataFrame resultante\n",
        "df_mod = df.drop([\"hijos\"], axis=1)\n",
        "df_mod"
      ],
      "execution_count": null,
      "outputs": []
    },
    {
      "cell_type": "code",
      "metadata": {
        "id": "17hlLY8uj79w"
      },
      "source": [
        "df"
      ],
      "execution_count": null,
      "outputs": []
    },
    {
      "cell_type": "markdown",
      "metadata": {
        "id": "k8kbTTWSj79x"
      },
      "source": [
        "## Evaluación de expresiones sobre un DataFrame"
      ]
    },
    {
      "cell_type": "code",
      "metadata": {
        "id": "7IAkJ7Nyj79x"
      },
      "source": [
        "# Creación de un DataFrame inicializándolo con un diccionario de objetios Series\n",
        "personas = {\n",
        "    \"peso\": pd.Series([84, 90, 56, 64], [\"Santiago\",\"Pedro\", \"Ana\", \"Julia\"]),\n",
        "    \"altura\": pd.Series({\"Santiago\": 187, \"Pedro\": 178, \"Julia\": 170, \"Ana\": 165}),\n",
        "    \"hijos\": pd.Series([2, 3], [\"Pedro\", \"Julia\"])\n",
        "}\n",
        "\n",
        "df = pd.DataFrame(personas)\n",
        "df"
      ],
      "execution_count": null,
      "outputs": []
    },
    {
      "cell_type": "code",
      "metadata": {
        "id": "OfyHAKirj79y"
      },
      "source": [
        "# Evaluar una función sobre una columna del DataFrame\n",
        "df.eval(\"altura / 2\")"
      ],
      "execution_count": null,
      "outputs": []
    },
    {
      "cell_type": "code",
      "metadata": {
        "id": "m83jQ9oij79z"
      },
      "source": [
        "# Asignar el valor resultante como una nueva columna\n",
        "df.eval(\"media_altura = altura / 2\", inplace=True)\n",
        "df"
      ],
      "execution_count": null,
      "outputs": []
    },
    {
      "cell_type": "code",
      "metadata": {
        "id": "85Ea49SZj790"
      },
      "source": [
        "# Evaluar una función utilizando una variable local\n",
        "max_altura = 180\n",
        "df.eval(\"altura > @max_altura\")"
      ],
      "execution_count": null,
      "outputs": []
    },
    {
      "cell_type": "code",
      "metadata": {
        "id": "nZ_rKa6sj792"
      },
      "source": [
        "# Aplicar una función externa a una columna del DataFrame\n",
        "def func(x):\n",
        "    return x + 2\n",
        "\n",
        "df[\"peso\"].apply(func)"
      ],
      "execution_count": null,
      "outputs": []
    },
    {
      "cell_type": "code",
      "metadata": {
        "id": "Qy8yju1-j793"
      },
      "source": [
        "df"
      ],
      "execution_count": null,
      "outputs": []
    },
    {
      "cell_type": "markdown",
      "metadata": {
        "id": "gyWx0DM_j794"
      },
      "source": [
        "## Guardar y Cargar el DataFrame"
      ]
    },
    {
      "cell_type": "code",
      "metadata": {
        "id": "iHn4lbuhj794"
      },
      "source": [
        "# Creación de un DataFrame inicializándolo con un diccionario de objetios Series\n",
        "personas = {\n",
        "    \"peso\": pd.Series([84, 90, 56, 64], [\"Santiago\",\"Pedro\", \"Ana\", \"Julia\"]),\n",
        "    \"altura\": pd.Series({\"Santiago\": 187, \"Pedro\": 178, \"Julia\": 170, \"Ana\": 165}),\n",
        "    \"hijos\": pd.Series([2, 3], [\"Pedro\", \"Julia\"])\n",
        "}\n",
        "\n",
        "df = pd.DataFrame(personas)\n",
        "df"
      ],
      "execution_count": null,
      "outputs": []
    },
    {
      "cell_type": "code",
      "metadata": {
        "id": "0g47azPdj795"
      },
      "source": [
        "# Guardar el DataFrame como CSV, HTML y JSON\n",
        "df.to_csv(\"df_personas.csv\")\n",
        "#df.to_html(\"df_personas.html\")\n",
        "#df.to_json(\"df_personas.json\")"
      ],
      "execution_count": null,
      "outputs": []
    },
    {
      "cell_type": "code",
      "metadata": {
        "id": "qkhqGyuEj796"
      },
      "source": [
        "# Cargar el DataFrame en Jupyter\n",
        "df2 = pd.read_csv(\"df_personas.csv\")"
      ],
      "execution_count": null,
      "outputs": []
    },
    {
      "cell_type": "code",
      "metadata": {
        "id": "2CkWphbKj797"
      },
      "source": [
        "df2"
      ],
      "execution_count": null,
      "outputs": []
    },
    {
      "cell_type": "code",
      "metadata": {
        "id": "0kIAtr0sj798"
      },
      "source": [
        "# Cargar el DataFrame con la primera columna correctamente asignada\n",
        "df2 = pd.read_csv(\"df_personas.csv\", index_col=0)\n",
        "df2"
      ],
      "execution_count": null,
      "outputs": []
    }
  ]
}